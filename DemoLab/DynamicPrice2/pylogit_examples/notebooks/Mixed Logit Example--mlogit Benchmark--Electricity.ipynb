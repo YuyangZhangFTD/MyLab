{
 "cells": [
  {
   "cell_type": "markdown",
   "metadata": {},
   "source": [
    "The purpose of this notebook is twofold. First, it demonstrates the basic functionality of PyLogit for estimatin Mixed Logit models. Secondly, it compares the estimation results for a Mixed Logit model from PyLogit and MLogit on a common dataset and model specification. The dataset is the \"Electricity\" dataset. Both the dataset and the model speecification come from Kenneth Train's exercises. See <a href=https://cran.r-project.org/web/packages/mlogit/vignettes/Exercises.pdf>this mlogit pdf</a>."
   ]
  },
  {
   "cell_type": "code",
   "execution_count": 1,
   "metadata": {
    "collapsed": true
   },
   "outputs": [],
   "source": [
    "from collections import OrderedDict    # For recording the model specification \n",
    "\n",
    "import pandas as pd                    # For file input/output\n",
    "import numpy as np                     # For vectorized math operations\n",
    "\n",
    "import pylogit as pl                   # For choice model estimation"
   ]
  },
  {
   "cell_type": "markdown",
   "metadata": {},
   "source": [
    "# 1. Load the Electricity Dataset"
   ]
  },
  {
   "cell_type": "code",
   "execution_count": 2,
   "metadata": {
    "collapsed": false
   },
   "outputs": [
    {
     "data": {
      "text/html": [
       "<div>\n",
       "<table border=\"1\" class=\"dataframe\">\n",
       "  <thead>\n",
       "    <tr style=\"text-align: right;\">\n",
       "      <th></th>\n",
       "      <th>0</th>\n",
       "      <th>1</th>\n",
       "      <th>2</th>\n",
       "      <th>3</th>\n",
       "      <th>4</th>\n",
       "    </tr>\n",
       "  </thead>\n",
       "  <tbody>\n",
       "    <tr>\n",
       "      <th>choice</th>\n",
       "      <td>False</td>\n",
       "      <td>False</td>\n",
       "      <td>False</td>\n",
       "      <td>True</td>\n",
       "      <td>False</td>\n",
       "    </tr>\n",
       "    <tr>\n",
       "      <th>id</th>\n",
       "      <td>1</td>\n",
       "      <td>1</td>\n",
       "      <td>1</td>\n",
       "      <td>1</td>\n",
       "      <td>1</td>\n",
       "    </tr>\n",
       "    <tr>\n",
       "      <th>alt</th>\n",
       "      <td>1</td>\n",
       "      <td>2</td>\n",
       "      <td>3</td>\n",
       "      <td>4</td>\n",
       "      <td>1</td>\n",
       "    </tr>\n",
       "    <tr>\n",
       "      <th>pf</th>\n",
       "      <td>7</td>\n",
       "      <td>9</td>\n",
       "      <td>0</td>\n",
       "      <td>0</td>\n",
       "      <td>7</td>\n",
       "    </tr>\n",
       "    <tr>\n",
       "      <th>cl</th>\n",
       "      <td>5</td>\n",
       "      <td>1</td>\n",
       "      <td>0</td>\n",
       "      <td>5</td>\n",
       "      <td>0</td>\n",
       "    </tr>\n",
       "    <tr>\n",
       "      <th>loc</th>\n",
       "      <td>0</td>\n",
       "      <td>1</td>\n",
       "      <td>0</td>\n",
       "      <td>0</td>\n",
       "      <td>0</td>\n",
       "    </tr>\n",
       "    <tr>\n",
       "      <th>wk</th>\n",
       "      <td>1</td>\n",
       "      <td>0</td>\n",
       "      <td>0</td>\n",
       "      <td>1</td>\n",
       "      <td>1</td>\n",
       "    </tr>\n",
       "    <tr>\n",
       "      <th>tod</th>\n",
       "      <td>0</td>\n",
       "      <td>0</td>\n",
       "      <td>0</td>\n",
       "      <td>1</td>\n",
       "      <td>0</td>\n",
       "    </tr>\n",
       "    <tr>\n",
       "      <th>seas</th>\n",
       "      <td>0</td>\n",
       "      <td>0</td>\n",
       "      <td>1</td>\n",
       "      <td>0</td>\n",
       "      <td>0</td>\n",
       "    </tr>\n",
       "    <tr>\n",
       "      <th>chid</th>\n",
       "      <td>1</td>\n",
       "      <td>1</td>\n",
       "      <td>1</td>\n",
       "      <td>1</td>\n",
       "      <td>2</td>\n",
       "    </tr>\n",
       "  </tbody>\n",
       "</table>\n",
       "</div>"
      ],
      "text/plain": [
       "            0      1      2     3      4\n",
       "choice  False  False  False  True  False\n",
       "id          1      1      1     1      1\n",
       "alt         1      2      3     4      1\n",
       "pf          7      9      0     0      7\n",
       "cl          5      1      0     5      0\n",
       "loc         0      1      0     0      0\n",
       "wk          1      0      0     1      1\n",
       "tod         0      0      0     1      0\n",
       "seas        0      0      1     0      0\n",
       "chid        1      1      1     1      2"
      ]
     },
     "execution_count": 2,
     "metadata": {},
     "output_type": "execute_result"
    }
   ],
   "source": [
    "# Load the raw electricity data\n",
    "long_electricity = pd.read_csv(\"../data/electricity_r_data_long.csv\")\n",
    "long_electricity.head().T"
   ]
  },
  {
   "cell_type": "markdown",
   "metadata": {},
   "source": [
    "# 2. Clean the dataset"
   ]
  },
  {
   "cell_type": "code",
   "execution_count": 3,
   "metadata": {
    "collapsed": false,
    "scrolled": true
   },
   "outputs": [],
   "source": [
    "# Make sure that the choice column contains ones and zeros as opposed\n",
    "# to true and false\n",
    "long_electricity[\"choice\"] = long_electricity[\"choice\"].astype(int)\n",
    "\n",
    "# List the variables that are the index variables\n",
    "index_var_names = [\"pf\", \"cl\", \"loc\", \"wk\", \"tod\", \"seas\"]\n",
    "# Transform all of the index variable columns to have float dtypes\n",
    "for col in index_var_names:\n",
    "    long_electricity[col] = long_electricity[col].astype(float)"
   ]
  },
  {
   "cell_type": "markdown",
   "metadata": {},
   "source": [
    "# 6. Specify and Estimate the Mixed Logit Model"
   ]
  },
  {
   "cell_type": "markdown",
   "metadata": {},
   "source": [
    "## 6a. Specify the Model"
   ]
  },
  {
   "cell_type": "code",
   "execution_count": 4,
   "metadata": {
    "collapsed": false
   },
   "outputs": [],
   "source": [
    "# Create the model's specification dictionary and variable names dictionary\n",
    "# NOTE: - Keys should be variables within the long format dataframe.\n",
    "#         The sole exception to this is the \"intercept\" key.\n",
    "#       - For the specification dictionary, the values should be lists\n",
    "#         or lists of lists. Within a list, or within the inner-most\n",
    "#         list should be the alternative ID's of the alternative whose\n",
    "#         utility specification the explanatory variable is entering.\n",
    "\n",
    "example_specification = OrderedDict()\n",
    "example_names = OrderedDict()\n",
    "\n",
    "# Note that the names used below are simply for consistency with\n",
    "# the coefficient names given in the mlogit vignette.\n",
    "for col in index_var_names:\n",
    "    example_specification[col] = [[1, 2, 3, 4]]\n",
    "    example_names[col] = [col]"
   ]
  },
  {
   "cell_type": "markdown",
   "metadata": {},
   "source": [
    "## 6b. Estimate the model"
   ]
  },
  {
   "cell_type": "markdown",
   "metadata": {},
   "source": [
    "Compared to estimating a Multinomial Logit Model, creating Mixed Logit models requires the declaration of more arguments.\n",
    "\n",
    "In particular, we have to specify the identification column over which the coefficients will be randomly distributed. Usually, this is the \"observation id\" for our dataset. While it is unfortunately named (for now), the \"obs_id_col\" argument should be used to specify the id of each choice situation. The \"mixing_id_col\" should be used to specify the id of each unit of observation over which the coefficients are believed to be randomly distributed.\n",
    "\n",
    "At the moment, PyLogit does not support estimation of Mixed Logit models where some coefficients are mixed over one unit of observation (such as individuals) and other coefficients are mixed over a different unit of observation (such as households).\n",
    "\n",
    "Beyond, specification of the mixing_id_col, one must also specify the variables that will be treated as random variables. This is done by passing a list containing the names of the coefficients in the model. Note, the strings in the passed list must be present in one of the lists within \"names.values()\".\n",
    "\n",
    "When estimating the mixed logit model, we must specify the number of draws to be taken from the distributions of the random coefficients. This is done through the \"num_draws\" argument of the \"fit_mle()\" function. Additionally, we can specify a random seed so the results of our estimation are reproducible. This is done through the \"seed\" argument of the \"fit_mle()\" function. Finally, the initial values argument should specify enough initial values for the original index coefficients as well as the standard deviation values of the coefficients that are being treated as random variables."
   ]
  },
  {
   "cell_type": "code",
   "execution_count": 5,
   "metadata": {
    "collapsed": false
   },
   "outputs": [
    {
     "name": "stdout",
     "output_type": "stream",
     "text": [
      "Log-likelihood at zero: -5,972.1561\n",
      "Initial Log-likelihood: -5,972.1561\n"
     ]
    },
    {
     "name": "stderr",
     "output_type": "stream",
     "text": [
      "/Users/timothyb0912/anaconda/lib/python2.7/site-packages/scipy/optimize/_minimize.py:385: RuntimeWarning: Method BFGS does not use Hessian information (hess).\n",
      "  RuntimeWarning)\n"
     ]
    },
    {
     "name": "stdout",
     "output_type": "stream",
     "text": [
      "Estimation Time: 3.20 minutes.\n",
      "Final log-likelihood: -3,903.8028\n"
     ]
    },
    {
     "data": {
      "text/html": [
       "<table class=\"simpletable\">\n",
       "<caption>Mixed Logit Model Regression Results</caption>\n",
       "<tr>\n",
       "  <th>Dep. Variable:</th>      <td>choice</td>       <th>  No. Observations:  </th>    <td>4,308</td>  \n",
       "</tr>\n",
       "<tr>\n",
       "  <th>Model:</th>         <td>Mixed Logit Model</td> <th>  Df Residuals:      </th>    <td>4,296</td>  \n",
       "</tr>\n",
       "<tr>\n",
       "  <th>Method:</th>               <td>MLE</td>        <th>  Df Model:          </th>     <td>12</td>    \n",
       "</tr>\n",
       "<tr>\n",
       "  <th>Date:</th>          <td>Tue, 30 Aug 2016</td>  <th>  Pseudo R-squ.:     </th>    <td>0.346</td>  \n",
       "</tr>\n",
       "<tr>\n",
       "  <th>Time:</th>              <td>13:26:15</td>      <th>  Pseudo R-bar-squ.: </th>    <td>0.344</td>  \n",
       "</tr>\n",
       "<tr>\n",
       "  <th>converged:</th>           <td>False</td>       <th>  Log-Likelihood:    </th> <td>-3,903.803</td>\n",
       "</tr>\n",
       "<tr>\n",
       "  <th> </th>                      <td> </td>         <th>  LL-Null:           </th> <td>-5,972.156</td>\n",
       "</tr>\n",
       "</table>\n",
       "<table class=\"simpletable\">\n",
       "<tr>\n",
       "       <td></td>         <th>coef</th>     <th>std err</th>      <th>z</th>      <th>P>|z|</th> <th>[95.0% Conf. Int.]</th> \n",
       "</tr>\n",
       "<tr>\n",
       "  <th>pf</th>         <td>   -0.9919</td> <td>    0.029</td> <td>  -34.436</td> <td> 0.000</td> <td>   -1.048    -0.935</td>\n",
       "</tr>\n",
       "<tr>\n",
       "  <th>cl</th>         <td>   -0.1952</td> <td>    0.022</td> <td>   -9.064</td> <td> 0.000</td> <td>   -0.237    -0.153</td>\n",
       "</tr>\n",
       "<tr>\n",
       "  <th>loc</th>        <td>    2.2735</td> <td>    0.117</td> <td>   19.503</td> <td> 0.000</td> <td>    2.045     2.502</td>\n",
       "</tr>\n",
       "<tr>\n",
       "  <th>wk</th>         <td>    1.6136</td> <td>    0.086</td> <td>   18.716</td> <td> 0.000</td> <td>    1.445     1.783</td>\n",
       "</tr>\n",
       "<tr>\n",
       "  <th>tod</th>        <td>   -9.3508</td> <td>    0.245</td> <td>  -38.127</td> <td> 0.000</td> <td>   -9.831    -8.870</td>\n",
       "</tr>\n",
       "<tr>\n",
       "  <th>seas</th>       <td>   -9.6250</td> <td>    0.226</td> <td>  -42.506</td> <td> 0.000</td> <td>  -10.069    -9.181</td>\n",
       "</tr>\n",
       "<tr>\n",
       "  <th>Sigma pf</th>   <td>   -0.2218</td> <td>    0.016</td> <td>  -14.265</td> <td> 0.000</td> <td>   -0.252    -0.191</td>\n",
       "</tr>\n",
       "<tr>\n",
       "  <th>Sigma cl</th>   <td>    0.4005</td> <td>    0.022</td> <td>   18.377</td> <td> 0.000</td> <td>    0.358     0.443</td>\n",
       "</tr>\n",
       "<tr>\n",
       "  <th>Sigma loc</th>  <td>   -1.8138</td> <td>    0.117</td> <td>  -15.512</td> <td> 0.000</td> <td>   -2.043    -1.585</td>\n",
       "</tr>\n",
       "<tr>\n",
       "  <th>Sigma wk</th>   <td>   -1.1761</td> <td>    0.079</td> <td>  -14.809</td> <td> 0.000</td> <td>   -1.332    -1.020</td>\n",
       "</tr>\n",
       "<tr>\n",
       "  <th>Sigma tod</th>  <td>   -2.5438</td> <td>    0.161</td> <td>  -15.840</td> <td> 0.000</td> <td>   -2.859    -2.229</td>\n",
       "</tr>\n",
       "<tr>\n",
       "  <th>Sigma seas</th> <td>   -1.2916</td> <td>    0.164</td> <td>   -7.874</td> <td> 0.000</td> <td>   -1.613    -0.970</td>\n",
       "</tr>\n",
       "</table>"
      ],
      "text/plain": [
       "<class 'statsmodels.iolib.summary.Summary'>\n",
       "\"\"\"\n",
       "                     Mixed Logit Model Regression Results                     \n",
       "==============================================================================\n",
       "Dep. Variable:                 choice   No. Observations:                4,308\n",
       "Model:              Mixed Logit Model   Df Residuals:                    4,296\n",
       "Method:                           MLE   Df Model:                           12\n",
       "Date:                Tue, 30 Aug 2016   Pseudo R-squ.:                   0.346\n",
       "Time:                        13:26:15   Pseudo R-bar-squ.:               0.344\n",
       "converged:                      False   Log-Likelihood:             -3,903.803\n",
       "                                        LL-Null:                    -5,972.156\n",
       "==============================================================================\n",
       "                 coef    std err          z      P>|z|      [95.0% Conf. Int.]\n",
       "------------------------------------------------------------------------------\n",
       "pf            -0.9919      0.029    -34.436      0.000        -1.048    -0.935\n",
       "cl            -0.1952      0.022     -9.064      0.000        -0.237    -0.153\n",
       "loc            2.2735      0.117     19.503      0.000         2.045     2.502\n",
       "wk             1.6136      0.086     18.716      0.000         1.445     1.783\n",
       "tod           -9.3508      0.245    -38.127      0.000        -9.831    -8.870\n",
       "seas          -9.6250      0.226    -42.506      0.000       -10.069    -9.181\n",
       "Sigma pf      -0.2218      0.016    -14.265      0.000        -0.252    -0.191\n",
       "Sigma cl       0.4005      0.022     18.377      0.000         0.358     0.443\n",
       "Sigma loc     -1.8138      0.117    -15.512      0.000        -2.043    -1.585\n",
       "Sigma wk      -1.1761      0.079    -14.809      0.000        -1.332    -1.020\n",
       "Sigma tod     -2.5438      0.161    -15.840      0.000        -2.859    -2.229\n",
       "Sigma seas    -1.2916      0.164     -7.874      0.000        -1.613    -0.970\n",
       "==============================================================================\n",
       "\"\"\""
      ]
     },
     "execution_count": 5,
     "metadata": {},
     "output_type": "execute_result"
    }
   ],
   "source": [
    "# Provide the module with the needed input arguments to create\n",
    "# an instance of the Mixed Logit model class.\n",
    "\n",
    "# Note that \"chid\" is used as the obs_id_col because \"chid\" is\n",
    "# the choice situation id.\n",
    "\n",
    "# Currently, the obs_id_col argument name is unfortunate because\n",
    "# in the most general of senses, it refers to the situation id.\n",
    "# In panel data settings, the mixing_id_col argument is what one \n",
    "# would generally think of as a \"observation id\".\n",
    "\n",
    "# For mixed logit models, the \"mixing_id_col\" argument specifies\n",
    "# the units of observation that the coefficients are randomly\n",
    "# distributed over.\n",
    "example_mixed = pl.create_choice_model(data=long_electricity,\n",
    "                                       alt_id_col=\"alt\",\n",
    "                                       obs_id_col=\"chid\",\n",
    "                                       choice_col=\"choice\",\n",
    "                                       specification=example_specification,\n",
    "                                       model_type=\"Mixed Logit\",\n",
    "                                       names=example_names,\n",
    "                                       mixing_id_col=\"id\",\n",
    "                                       mixing_vars=index_var_names)\n",
    "\n",
    "# Note 2 * len(index_var_names) is used because we are estimating\n",
    "# both the mean and standard deviation of each of the random coefficients\n",
    "# for the listed index variables.\n",
    "example_mixed.fit_mle(init_vals=np.zeros(2 * len(index_var_names)),\n",
    "                      num_draws=600,\n",
    "                      seed=123)\n",
    "\n",
    "# Look at the estimated results\n",
    "example_mixed.get_statsmodels_summary()"
   ]
  },
  {
   "cell_type": "markdown",
   "metadata": {},
   "source": [
    "## 6.c Compare the model output with that of mlogit"
   ]
  },
  {
   "cell_type": "markdown",
   "metadata": {},
   "source": [
    "The mlogit call and output are given below:\n",
    "<pre>\n",
    "> set.seed(123)\n",
    "> electricity_mixl = mlogit(choice~pf+cl+loc+wk+tod+seas|0,\n",
    "+                           electricity_long,\n",
    "+                           rpar=c(pf=\"n\",\n",
    "+                                  cl=\"n\",\n",
    "+                                  loc=\"n\",\n",
    "+                                  wk=\"n\",\n",
    "+                                  tod=\"n\",\n",
    "+                                  seas=\"n\"),\n",
    "+                           R=600,\n",
    "+                           halton=NULL,\n",
    "+                           print.level=0,\n",
    "+                           panel=TRUE)\n",
    "> summary(electricity_mixl)\n",
    "\n",
    "Call:\n",
    "mlogit(formula = choice ~ pf + cl + loc + wk + tod + seas | 0, \n",
    "    data = electricity_long, rpar = c(pf = \"n\", cl = \"n\", loc = \"n\", \n",
    "        wk = \"n\", tod = \"n\", seas = \"n\"), R = 600, halton = NULL, \n",
    "    panel = TRUE, print.level = 0)\n",
    "\n",
    "Frequencies of alternatives:\n",
    "      1       2       3       4 \n",
    "0.22702 0.26393 0.23816 0.27089 \n",
    "\n",
    "bfgs method\n",
    "23 iterations, 0h:1m:48s \n",
    "g'(-H)^-1g = 1.66E-07 \n",
    "gradient close to zero \n",
    "\n",
    "Coefficients :\n",
    "         Estimate Std. Error t-value  Pr(>|t|)    \n",
    "pf      -0.980049   0.035852 -27.336 < 2.2e-16 ***\n",
    "cl      -0.214234   0.014205 -15.082 < 2.2e-16 ***\n",
    "loc      2.339543   0.088591  26.408 < 2.2e-16 ***\n",
    "wk       1.596299   0.069847  22.854 < 2.2e-16 ***\n",
    "tod     -9.325374   0.304802 -30.595 < 2.2e-16 ***\n",
    "seas    -9.643796   0.310437 -31.065 < 2.2e-16 ***\n",
    "sd.pf    0.207022   0.011939  17.340 < 2.2e-16 ***\n",
    "sd.cl    0.393249   0.019352  20.321 < 2.2e-16 ***\n",
    "sd.loc   1.770551   0.099411  17.811 < 2.2e-16 ***\n",
    "sd.wk    1.183782   0.083063  14.252 < 2.2e-16 ***\n",
    "sd.tod   2.282927   0.128163  17.813 < 2.2e-16 ***\n",
    "sd.seas  1.578440   0.124485  12.680 < 2.2e-16 ***\n",
    "---\n",
    "Signif. codes:  0 ‘***’ 0.001 ‘**’ 0.01 ‘*’ 0.05 ‘.’ 0.1 ‘ ’ 1\n",
    "\n",
    "Log-Likelihood: -3904.7\n",
    "\n",
    "random coefficients\n",
    "     Min.     1st Qu.     Median       Mean     3rd Qu. Max.\n",
    "pf   -Inf  -1.1196828 -0.9800489 -0.9800489 -0.84041499  Inf\n",
    "cl   -Inf  -0.4794766 -0.2142339 -0.2142339  0.05100865  Inf\n",
    "loc  -Inf   1.1453244  2.3395430  2.3395430  3.53376158  Inf\n",
    "wk   -Inf   0.7978500  1.5962985  1.5962985  2.39474707  Inf\n",
    "tod  -Inf -10.8651849 -9.3253739 -9.3253739 -7.78556285  Inf\n",
    "seas -Inf -10.7084372 -9.6437959 -9.6437959 -8.57915462  Inf\n",
    "</pre>"
   ]
  },
  {
   "cell_type": "markdown",
   "metadata": {},
   "source": [
    "### Summary\n",
    "Clearly, there are differences between the estimation results of mlogit and those of PyLogit. However these differences are not large, and it is not clear where the differences between the two estimation routines comes from.\n",
    "\n",
    "The results are close enough to suspect that the estimation differences stem from randomness due to simulation and the fact that one cannot force the randomly generated numbers to be the same across programming languages (R versus Python).\n",
    "\n",
    "The log-likelihood values are quite close to each other and none of the parameters seem to be actually different from each other (in the sense of not overlapping with each other's 95% confidence interval). "
   ]
  },
  {
   "cell_type": "code",
   "execution_count": null,
   "metadata": {
    "collapsed": true
   },
   "outputs": [],
   "source": []
  }
 ],
 "metadata": {
  "kernelspec": {
   "display_name": "Python 2",
   "language": "python",
   "name": "python2"
  },
  "language_info": {
   "codemirror_mode": {
    "name": "ipython",
    "version": 2
   },
   "file_extension": ".py",
   "mimetype": "text/x-python",
   "name": "python",
   "nbconvert_exporter": "python",
   "pygments_lexer": "ipython2",
   "version": "2.7.12"
  }
 },
 "nbformat": 4,
 "nbformat_minor": 0
}
